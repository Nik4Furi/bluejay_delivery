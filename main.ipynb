{
 "cells": [
  {
   "cell_type": "markdown",
   "metadata": {},
   "source": [
    "# Analyzing and Perform Operations on Bluejay_Delivery\n",
    "\n",
    "this is an assessment of the bluejay_delivery. I have the analyze and make query on the data-sets\n"
   ]
  },
  {
   "cell_type": "markdown",
   "metadata": {},
   "source": [
    "Import/Read the data of the excel format"
   ]
  },
  {
   "cell_type": "code",
   "execution_count": null,
   "metadata": {},
   "outputs": [],
   "source": [
    "import pandas as pd\n",
    "data_xls = pd.read_excel('./assignment.xlsx', 'Sheet1', index_col=None) # Converting xlsx to csv files, will help to analyze data in readable format\n",
    "data_xls.to_csv('assignment.csv', encoding='utf-8', index=False) \n",
    "data_xls\n"
   ]
  },
  {
   "cell_type": "markdown",
   "metadata": {},
   "source": [
    "Before procedding the queries on the data, we need to anaylze the data, to find the relatable information, we want to get"
   ]
  },
  {
   "cell_type": "code",
   "execution_count": null,
   "metadata": {},
   "outputs": [],
   "source": [
    "data_xls.head() # get the top 5 data for basic understanding"
   ]
  },
  {
   "cell_type": "code",
   "execution_count": null,
   "metadata": {},
   "outputs": [],
   "source": [
    "data_xls.shape # no of rows and columns"
   ]
  },
  {
   "cell_type": "code",
   "execution_count": null,
   "metadata": {},
   "outputs": [],
   "source": [
    "data_xls.columns # Get the names of all columns"
   ]
  },
  {
   "cell_type": "code",
   "execution_count": null,
   "metadata": {},
   "outputs": [],
   "source": [
    "data_xls.dtypes # see which types of attributes in there"
   ]
  },
  {
   "cell_type": "code",
   "execution_count": null,
   "metadata": {},
   "outputs": [],
   "source": [
    "data_xls.info() # get all necessary infromation"
   ]
  },
  {
   "cell_type": "markdown",
   "metadata": {},
   "source": [
    "## Now start to analyze the data-sets and applying the queries:->\n",
    "1. Print name and position of the employe\n",
    "   \n",
    "    a. who has worked for 7 consecutive days.\n",
    "    "
   ]
  },
  {
   "cell_type": "code",
   "execution_count": null,
   "metadata": {},
   "outputs": [],
   "source": [
    "data_xls.head()\n",
    "\n",
    "# Calculate duration of work period\n",
    "data_xls['Duration'] = (data_xls['Time Out'] - data_xls['Time']).dt.days + 1\n",
    "\n",
    "data_xls['Duration']\n",
    "\n",
    "# Identify consecutive days for each employee\n",
    "data_xls['ConsecutiveDays'] = data_xls.groupby('Employee Name')['Time'].diff().dt.days == 1\n",
    "\n",
    "data_xls['ConsecutiveDays']\n",
    "\n",
    "# Filter employees who worked for 7 consecutive days\n",
    "result = data_xls[data_xls.groupby('Employee Name')['ConsecutiveDays'].transform('sum') >= 7]\n",
    "\n",
    "\n",
    "# Print name and position of the employees who meet the criteria\n",
    "# result\n",
    "print(result[['Employee Name', 'Position Status']])"
   ]
  },
  {
   "cell_type": "markdown",
   "metadata": {},
   "source": [
    "        b. who have less than 10 hours of time between shifts but greater than 1 hour"
   ]
  },
  {
   "cell_type": "code",
   "execution_count": null,
   "metadata": {},
   "outputs": [],
   "source": [
    "# Sort the DataFrame by EmployeeName and StartTime\n",
    "data_xls.sort_values(by=['Employee Name', 'Time'], inplace=True)\n",
    "\n",
    "# Calculate the time difference between shifts\n",
    "data_xls['TimeBetweenShifts'] = data_xls.groupby('Employee Name')['Time'].diff()\n",
    "\n",
    "# Filter employees with less than 10 hours but greater than 1 hour between shifts\n",
    "result = data_xls[(data_xls['TimeBetweenShifts'] < pd.Timedelta(hours=10)) & (data_xls['TimeBetweenShifts'] > pd.Timedelta(hours=1))]\n",
    "\n",
    "# Print name and position of the employees who meet the criteria\n",
    "print(result[['Employee Name', 'Position Status']])"
   ]
  },
  {
   "cell_type": "markdown",
   "metadata": {},
   "source": [
    "        c. Who has worked for more than 14 hours in a single shift"
   ]
  },
  {
   "cell_type": "code",
   "execution_count": null,
   "metadata": {},
   "outputs": [],
   "source": [
    "# Calculate the duration of each shift\n",
    "data_xls['ShiftDuration'] = (data_xls['Time Out'] - data_xls['Time']).dt.total_seconds() / 3600  # Convert seconds to hours\n",
    "\n",
    "# Filter employees who have worked for more than 14 hours in a single shift\n",
    "result = data_xls[data_xls['ShiftDuration'] > 14]\n",
    "\n",
    "# Print name and position of the employees who meet the criteria\n",
    "print(result[['Employee Name', 'Position Status']])"
   ]
  }
 ],
 "metadata": {
  "kernelspec": {
   "display_name": "Python 3",
   "language": "python",
   "name": "python3"
  },
  "language_info": {
   "codemirror_mode": {
    "name": "ipython",
    "version": 3
   },
   "file_extension": ".py",
   "mimetype": "text/x-python",
   "name": "python",
   "nbconvert_exporter": "python",
   "pygments_lexer": "ipython3",
   "version": "3.11.5"
  }
 },
 "nbformat": 4,
 "nbformat_minor": 2
}
